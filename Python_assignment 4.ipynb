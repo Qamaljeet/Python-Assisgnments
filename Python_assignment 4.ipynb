{
 "cells": [
  {
   "cell_type": "markdown",
   "metadata": {},
   "source": [
    "# Python Assignment 4"
   ]
  },
  {
   "cell_type": "markdown",
   "metadata": {},
   "source": [
    "1.1 Write a Python Program(with class concepts) to find the area of the triangle using the below\n",
    "formula.\n",
    "area = (s*(s-a)*(s-b)*(s-c)) ** 0.5\n",
    "Function to take the length of the sides of triangle from user should be defined in the parent\n",
    "class and function to calculate the area should be defined in subclass."
   ]
  },
  {
   "cell_type": "code",
   "execution_count": 6,
   "metadata": {},
   "outputs": [
    {
     "name": "stdout",
     "output_type": "stream",
     "text": [
      "side1 = 40\n",
      "side2 = 67\n",
      "side3 = 89\n"
     ]
    },
    {
     "data": {
      "text/plain": [
       "1259.2998054474558"
      ]
     },
     "execution_count": 6,
     "metadata": {},
     "output_type": "execute_result"
    }
   ],
   "source": [
    "class sides: \n",
    "    def __init__(self,side1,side2,side3): \n",
    "        self.side1=side1 \n",
    "        self.side2=side2 \n",
    "        self.side3=side3 \n",
    "\n",
    "class triangle(sides): \n",
    "    def area(self): \n",
    "\n",
    "        s=(self.side1+self.side2+self.side3)*0.5 \n",
    "        a = float((s * (s - self.side1) * (s - self.side2) * (s - self.side3))) ** 0.5\n",
    "        return a\n",
    "\n",
    "side1, side2, side3 = float(input(\"side1 = \")), float(input(\"side2 = \")), float(input(\"side3 = \")) \n",
    "\n",
    "t=triangle(side1,side2,side3)\n",
    "t.area()\n",
    "\n",
    "\n",
    "\n",
    "  "
   ]
  },
  {
   "cell_type": "code",
   "execution_count": null,
   "metadata": {},
   "outputs": [],
   "source": []
  },
  {
   "cell_type": "markdown",
   "metadata": {},
   "source": [
    "1.2 Write a function filter_long_words() that takes a list of words and an integer n and returns\n",
    "the list of words that are longer than n."
   ]
  },
  {
   "cell_type": "code",
   "execution_count": null,
   "metadata": {},
   "outputs": [],
   "source": [
    "def filter_long_words(seasons):\n",
    "    lst =[]\n",
    "    for i in seasons:\n",
    "        if len(i)>5:\n",
    "            lst.append(i)\n",
    "    return(lst)\n",
    "filter_long_words(['Winter', 'Spring', 'Autumn', 'Summer', 'Rainy'])               "
   ]
  },
  {
   "cell_type": "markdown",
   "metadata": {},
   "source": [
    "2.1 Write a Python program using function concept that maps list of words into a list of integers\n",
    "representing the lengths of the corresponding words.\n",
    "Hint: If a list [ ab,cde,erty] is passed on to the python function output should come as [2,3,4]\n",
    "Here 2,3 and 4 are the lengths of the words in the list."
   ]
  },
  {
   "cell_type": "code",
   "execution_count": null,
   "metadata": {},
   "outputs": [],
   "source": [
    "def mapping():\n",
    "    lst1 =[]\n",
    "    animals = ['Dog', 'Horse', 'Lion']\n",
    "    for i in animals:\n",
    "        lst1.append(len(i))\n",
    "    return(lst1)\n",
    "mapping()"
   ]
  },
  {
   "cell_type": "markdown",
   "metadata": {},
   "source": [
    "2.2 Write a Python function which takes a character (i.e. a string of length 1) and returns True if\n",
    "it is a vowel, False otherwise."
   ]
  },
  {
   "cell_type": "code",
   "execution_count": null,
   "metadata": {},
   "outputs": [],
   "source": [
    "def vowel_char():\n",
    "    vowels = ['a','e','i','o','u']\n",
    "    char = 't'\n",
    "    if char in vowels:\n",
    "        return True\n",
    "    else:\n",
    "        return False\n",
    "vowel_char()    "
   ]
  },
  {
   "cell_type": "code",
   "execution_count": null,
   "metadata": {},
   "outputs": [],
   "source": []
  }
 ],
 "metadata": {
  "kernelspec": {
   "display_name": "Python 3",
   "language": "python",
   "name": "python3"
  },
  "language_info": {
   "codemirror_mode": {
    "name": "ipython",
    "version": 3
   },
   "file_extension": ".py",
   "mimetype": "text/x-python",
   "name": "python",
   "nbconvert_exporter": "python",
   "pygments_lexer": "ipython3",
   "version": "3.8.5"
  }
 },
 "nbformat": 4,
 "nbformat_minor": 4
}
